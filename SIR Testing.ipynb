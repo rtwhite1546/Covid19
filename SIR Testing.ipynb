{
 "cells": [
  {
   "cell_type": "code",
   "execution_count": 54,
   "metadata": {
    "collapsed": false
   },
   "outputs": [
    {
     "name": "stdout",
     "output_type": "stream",
     "text": [
      "['10-Mar', '11-Mar', '12-Mar', '13-Mar', '14-Mar', '15-Mar', '16-Mar', '17-Mar', '18-Mar', '19-Mar', '20-Mar', '21-Mar', '22-Mar', '23-Mar', '24-Mar', '25-Mar', '26-Mar', '27-Mar', '28-Mar', '29-Mar', '30-Mar', '31-Mar', '1-Apr', '2-Apr', '3-Apr', '4-Apr', '5-Apr', '6-Apr', '7-Apr', '8-Apr', '9-Apr', '10-Apr', '11-Apr', '12-Apr', '13-Apr', '14-Apr', '15-Apr', '16-Apr', '17-Apr', '18-Apr', '19-Apr', '20-Apr', '21-Apr', '22-Apr', '23-Apr', '24-Apr', '25-Apr', '26-Apr', '27-Apr', '28-Apr', '29-Apr', '30-Apr', '1-May', '2-May', '3-May', '4-May', '5-May', '6-May', '7-May', '8-May', '9-May', '10-May', '11-May', '12-May', '13-May', '14-May', '15-May', '16-May', '17-May', '18-May', '19-May', '20-May', '21-May', '22-May', '23-May', '24-May', '25-May', '26-May', '27-May', '28-May', '29-May', '30-May', '31-May', '1-Jun', '2-Jun', '3-Jun', '4-Jun', '5-Jun', '6-Jun', '7-Jun', '8-Jun', '9-Jun', '10-Jun', '11-Jun', '12-Jun', '13-Jun', '14-Jun', '15-Jun', '16-Jun', '17-Jun', '18-Jun']\n"
     ]
    }
   ],
   "source": [
    "# This code block imports all the libraries we need, saves all the functions, and\n",
    "# reads data from CSV and prepares it for analysis\n",
    "\n",
    "# IMPORT NECESSARY LIBRARIES\n",
    "import numpy as np\n",
    "import matplotlib.pyplot as plt\n",
    "import math\n",
    "from scipy import optimize\n",
    "\n",
    "\n",
    "## FUNCTIONS WE HAVE WRITTEN\n",
    "# Simulate the SIR model if we know alpha, beta, S0, I0, R0\n",
    "def sirBasic(S0, I0, R0, alpha, beta, n):\n",
    "    # Make an empty 3 by 101 matrix that will be the predicted number of people in each group\n",
    "    SIR = np.zeros((3,n+1))\n",
    "\n",
    "    # fill in the initial data\n",
    "    SIR[:,0] = np.array([S0, I0, R0])\n",
    "\n",
    "    for i in range(n):\n",
    "        SIR[:,i+1] = SIR[:,i] + np.array([-beta*SIR[0,i]*SIR[1,i], beta*SIR[0,i]*SIR[1,i] - alpha*SIR[1,i], alpha*SIR[1,i]])\n",
    "\n",
    "    return SIR\n",
    "\n",
    "# Advanced SIR Model\n",
    "# alpha1 transitions to alpha2 according to a sigmoid curve\n",
    "# (center of transition at time n1 and k1 controls how fast it transitions)\n",
    "# beta1 transitions to beta2 according to a sigmoid curve\n",
    "# (center of transition at time m1 and j1 controls how fast it transitions)\n",
    "\n",
    "# Sigmoid function\n",
    "def sigmoid(t):\n",
    "    return 1/(1+np.exp(-t))\n",
    "\n",
    "# Advanced SIR simulation\n",
    "def sirAdvanced(S0, I0, R0, alpha1, alpha2, beta1, beta2, n1, m1, k, j, n):\n",
    "    # Make an empty 3 by 101 matrix that will be the predicted number of people in each group\n",
    "    SIR = np.zeros((3,n+1))\n",
    "\n",
    "    # fill in the initial data\n",
    "    SIR[:,0] = np.array([S0, I0, R0])\n",
    "\n",
    "    for i in range(n):\n",
    "        # update alpha\n",
    "        alpha = (alpha2 - alpha1)*sigmoid(k*(i - n1)) + alpha1\n",
    "\n",
    "        # update beta\n",
    "        beta = (beta2 - beta1)*sigmoid(j*(i - m1)) + beta1\n",
    "\n",
    "        SIR[:,i+1] = SIR[:,i] + np.array([-beta*SIR[0,i]*SIR[1,i], beta*SIR[0,i]*SIR[1,i] - alpha*SIR[1,i], alpha*SIR[1,i]])\n",
    "\n",
    "    return SIR\n",
    "\n",
    "# Function that computes the error between simulated data and real data\n",
    "def findError(data, simulated):\n",
    "    return math.sqrt(np.sum((data - simulated)**2))\n",
    "\n",
    "# Gradient descent method that minimizes a function of one variable\n",
    "def gradientDescent1D(f, x0, h, tolerance, maxIterations):\n",
    "    x = x0\n",
    "    step = h\n",
    "\n",
    "    for counter in range(maxIterations+1):\n",
    "        slope = (f(x+step) - f(x))/step\n",
    "        step = -slope*h\n",
    "        x = x + step\n",
    "\n",
    "        if x < 0:\n",
    "            x = -1*x\n",
    "\n",
    "        if math.fabs(slope) < tolerance:\n",
    "            #print('1D gradient descent took', counter, 'iterations to converge')\n",
    "            #print('The slope at', x, 'is approximately', slope)\n",
    "            return x\n",
    "            break\n",
    "\n",
    "        if counter == maxIterations:\n",
    "            #print('1D gradient descent failed')\n",
    "            #print('The slope at', x, 'is approximately', slope)\n",
    "            return x\n",
    "\n",
    "## DATA PREPARATION AND READING FROM CSV\n",
    "# Read real data from a CSV file and run the basic SIR model (skip row 1, ignore column 0)\n",
    "\n",
    "#data = np.genfromtxt('COVID19DataSK.csv', delimiter=',', skip_header = 1, usecols = (1, 2, 3, 4))\n",
    "#data = np.genfromtxt('COVID19DataUSlimited.csv', delimiter=',', skip_header = 1, usecols = (1, 2, 3, 4))\n",
    "data = np.genfromtxt('Covid19DataUSLimitedEditedRecovery.csv', delimiter=',', skip_header = 1, usecols = (1, 2, 3, 4))\n",
    "\n",
    "# Record dates\n",
    "dates = np.genfromtxt('Covid19DataUSLimitedEditedRecovery.csv', delimiter=',', skip_header = 1, dtype='unicode', usecols=(0))\n",
    "dates = dates.tolist()\n",
    "print(dates)\n",
    "\n",
    "# Turn the columns into rows\n",
    "data = np.transpose(data)\n",
    "\n",
    "# Find the number of days in the real data\n",
    "lastDay = int(data[0,-1])\n",
    "\n",
    "# Delete the \"day\" row in the real data so it will have S, I, and R rows like our SIR models\n",
    "data = data[1:4,:]\n",
    "\n",
    "# Pull initial data values from the real data\n",
    "S0 = data[0,0]\n",
    "I0 = data[1,0]\n",
    "R0 = data[2,0]"
   ]
  },
  {
   "cell_type": "code",
   "execution_count": 55,
   "metadata": {
    "collapsed": false
   },
   "outputs": [
    {
     "name": "stdout",
     "output_type": "stream",
     "text": [
      "      fun: 1102556.2857238906\n",
      " hess_inv: <8x8 LbfgsInvHessProduct with dtype=float64>\n",
      "      jac: array([ 4.27106456e+06, -4.58955765e+02,  2.40872614e+03,  5.59724867e+01,\n",
      "        1.11525878e+01, -2.32830644e-02, -1.32154673e+02,  3.40631232e+01])\n",
      "  message: b'CONVERGENCE: REL_REDUCTION_OF_F_<=_FACTR*EPSMCH'\n",
      "     nfev: 2367\n",
      "      nit: 192\n",
      "   status: 0\n",
      "  success: True\n",
      "        x: array([ 0.        ,  0.18159989,  0.24553866,  0.52454138, 22.80167003,\n",
      "       73.18342853,  5.        ,  0.2055891 ])\n"
     ]
    }
   ],
   "source": [
    "# this is ERR(alpha,b)\n",
    "# Basic Model\n",
    "# x = [x[0], x[1]] = (alpha, b)\n",
    "#f = lambda x: findError(sirBasic(S0,I0,R0,x[0],x[1]/S0,lastDay), data)\n",
    "\n",
    "# Advanced Model\n",
    "# x = [x[0], x[1], x[2], x[3], x[4], x[5], x[6], x[7]] = (alpha1, alpha2)\n",
    "f = lambda x: findError(sirAdvanced(S0,I0,R0,x[0],x[1],x[2]/S0,x[3]/S0,x[4],x[5],x[6],x[7],lastDay), data)\n",
    "\n",
    "# Run the optimization code\n",
    "#result = optimize.minimize(f, [0.1, 0.2], bounds = ((0,1), (0,1)))\n",
    "result = optimize.minimize(f, [0.1, 0.2, 0.3, 0.5, lastDay/2, lastDay/2, 1, 1],\n",
    "                          bounds=((0,1),(0,1),(0,1),(0,1),(0,lastDay),(0,lastDay),(-5,5),(-5,5)))\n",
    "\n",
    "print(result)\n",
    "\n",
    "x = result.x"
   ]
  },
  {
   "cell_type": "code",
   "execution_count": 81,
   "metadata": {
    "collapsed": false
   },
   "outputs": [
    {
     "ename": "AttributeError",
     "evalue": "This method only works with the ScalarFormatter",
     "output_type": "error",
     "traceback": [
      "\u001b[0;31m---------------------------------------------------------------------------\u001b[0m",
      "\u001b[0;31mAttributeError\u001b[0m                            Traceback (most recent call last)",
      "\u001b[0;32m/usr/local/lib/python3.6/dist-packages/matplotlib/axes/_base.py\u001b[0m in \u001b[0;36mticklabel_format\u001b[0;34m(self, axis, style, scilimits, useOffset, useLocale, useMathText)\u001b[0m\n\u001b[1;32m   2829\u001b[0m                 \u001b[0;32mif\u001b[0m \u001b[0mis_sci_style\u001b[0m \u001b[0;32mis\u001b[0m \u001b[0;32mnot\u001b[0m \u001b[0;32mNone\u001b[0m\u001b[0;34m:\u001b[0m\u001b[0;34m\u001b[0m\u001b[0;34m\u001b[0m\u001b[0m\n\u001b[0;32m-> 2830\u001b[0;31m                     \u001b[0maxis\u001b[0m\u001b[0;34m.\u001b[0m\u001b[0mmajor\u001b[0m\u001b[0;34m.\u001b[0m\u001b[0mformatter\u001b[0m\u001b[0;34m.\u001b[0m\u001b[0mset_scientific\u001b[0m\u001b[0;34m(\u001b[0m\u001b[0mis_sci_style\u001b[0m\u001b[0;34m)\u001b[0m\u001b[0;34m\u001b[0m\u001b[0;34m\u001b[0m\u001b[0m\n\u001b[0m\u001b[1;32m   2831\u001b[0m                 \u001b[0;32mif\u001b[0m \u001b[0mscilimits\u001b[0m \u001b[0;32mis\u001b[0m \u001b[0;32mnot\u001b[0m \u001b[0;32mNone\u001b[0m\u001b[0;34m:\u001b[0m\u001b[0;34m\u001b[0m\u001b[0;34m\u001b[0m\u001b[0m\n",
      "\u001b[0;31mAttributeError\u001b[0m: 'FixedFormatter' object has no attribute 'set_scientific'",
      "\nDuring handling of the above exception, another exception occurred:\n",
      "\u001b[0;31mAttributeError\u001b[0m                            Traceback (most recent call last)",
      "\u001b[0;32m<ipython-input-81-c7e482dfd9f9>\u001b[0m in \u001b[0;36m<module>\u001b[0;34m\u001b[0m\n\u001b[1;32m     21\u001b[0m \u001b[0mplt\u001b[0m\u001b[0;34m.\u001b[0m\u001b[0mxticks\u001b[0m\u001b[0;34m(\u001b[0m\u001b[0mt\u001b[0m\u001b[0;34m,\u001b[0m \u001b[0mdateLabels\u001b[0m\u001b[0;34m,\u001b[0m \u001b[0mrotation\u001b[0m\u001b[0;34m=\u001b[0m\u001b[0;36m45\u001b[0m\u001b[0;34m)\u001b[0m\u001b[0;34m\u001b[0m\u001b[0;34m\u001b[0m\u001b[0m\n\u001b[1;32m     22\u001b[0m \u001b[0;34m\u001b[0m\u001b[0m\n\u001b[0;32m---> 23\u001b[0;31m \u001b[0mplt\u001b[0m\u001b[0;34m.\u001b[0m\u001b[0mticklabel_format\u001b[0m\u001b[0;34m(\u001b[0m\u001b[0museOffset\u001b[0m\u001b[0;34m=\u001b[0m\u001b[0;32mFalse\u001b[0m\u001b[0;34m,\u001b[0m \u001b[0mstyle\u001b[0m\u001b[0;34m=\u001b[0m\u001b[0;34m'plain'\u001b[0m\u001b[0;34m)\u001b[0m\u001b[0;34m\u001b[0m\u001b[0;34m\u001b[0m\u001b[0m\n\u001b[0m\u001b[1;32m     24\u001b[0m \u001b[0;34m\u001b[0m\u001b[0m\n\u001b[1;32m     25\u001b[0m \u001b[0;31m# Plot the real data as dots\u001b[0m\u001b[0;34m\u001b[0m\u001b[0;34m\u001b[0m\u001b[0;34m\u001b[0m\u001b[0m\n",
      "\u001b[0;32m/usr/local/lib/python3.6/dist-packages/matplotlib/pyplot.py\u001b[0m in \u001b[0;36mticklabel_format\u001b[0;34m(axis, style, scilimits, useOffset, useLocale, useMathText)\u001b[0m\n\u001b[1;32m   2947\u001b[0m         \u001b[0maxis\u001b[0m\u001b[0;34m=\u001b[0m\u001b[0maxis\u001b[0m\u001b[0;34m,\u001b[0m \u001b[0mstyle\u001b[0m\u001b[0;34m=\u001b[0m\u001b[0mstyle\u001b[0m\u001b[0;34m,\u001b[0m \u001b[0mscilimits\u001b[0m\u001b[0;34m=\u001b[0m\u001b[0mscilimits\u001b[0m\u001b[0;34m,\u001b[0m\u001b[0;34m\u001b[0m\u001b[0;34m\u001b[0m\u001b[0m\n\u001b[1;32m   2948\u001b[0m         \u001b[0museOffset\u001b[0m\u001b[0;34m=\u001b[0m\u001b[0museOffset\u001b[0m\u001b[0;34m,\u001b[0m \u001b[0museLocale\u001b[0m\u001b[0;34m=\u001b[0m\u001b[0museLocale\u001b[0m\u001b[0;34m,\u001b[0m\u001b[0;34m\u001b[0m\u001b[0;34m\u001b[0m\u001b[0m\n\u001b[0;32m-> 2949\u001b[0;31m         useMathText=useMathText)\n\u001b[0m\u001b[1;32m   2950\u001b[0m \u001b[0;34m\u001b[0m\u001b[0m\n\u001b[1;32m   2951\u001b[0m \u001b[0;34m\u001b[0m\u001b[0m\n",
      "\u001b[0;32m/usr/local/lib/python3.6/dist-packages/matplotlib/axes/_base.py\u001b[0m in \u001b[0;36mticklabel_format\u001b[0;34m(self, axis, style, scilimits, useOffset, useLocale, useMathText)\u001b[0m\n\u001b[1;32m   2839\u001b[0m         \u001b[0;32mexcept\u001b[0m \u001b[0mAttributeError\u001b[0m\u001b[0;34m:\u001b[0m\u001b[0;34m\u001b[0m\u001b[0;34m\u001b[0m\u001b[0m\n\u001b[1;32m   2840\u001b[0m             raise AttributeError(\n\u001b[0;32m-> 2841\u001b[0;31m                 \"This method only works with the ScalarFormatter\")\n\u001b[0m\u001b[1;32m   2842\u001b[0m \u001b[0;34m\u001b[0m\u001b[0m\n\u001b[1;32m   2843\u001b[0m     \u001b[0;32mdef\u001b[0m \u001b[0mlocator_params\u001b[0m\u001b[0;34m(\u001b[0m\u001b[0mself\u001b[0m\u001b[0;34m,\u001b[0m \u001b[0maxis\u001b[0m\u001b[0;34m=\u001b[0m\u001b[0;34m'both'\u001b[0m\u001b[0;34m,\u001b[0m \u001b[0mtight\u001b[0m\u001b[0;34m=\u001b[0m\u001b[0;32mNone\u001b[0m\u001b[0;34m,\u001b[0m \u001b[0;34m**\u001b[0m\u001b[0mkwargs\u001b[0m\u001b[0;34m)\u001b[0m\u001b[0;34m:\u001b[0m\u001b[0;34m\u001b[0m\u001b[0;34m\u001b[0m\u001b[0m\n",
      "\u001b[0;31mAttributeError\u001b[0m: This method only works with the ScalarFormatter"
     ]
    },
    {
     "data": {
      "image/png": "[encoded data removed]",
      "text/plain": [
       "<Figure size 864x504 with 1 Axes>"
      ]
     },
     "execution_count": 81,
     "metadata": {
      "image/png": {
       "height": 438,
       "width": 706
      },
      "needs_background": "light"
     },
     "output_type": "execute_result"
    }
   ],
   "source": [
    "#simulated = sirBasic(S0,I0,R0,x[0],x[1]/S0,lastDay)\n",
    "\n",
    "n = 150\n",
    "simulated = sirAdvanced(S0,I0,R0,x[0],x[1],x[2]/S0,x[3]/S0,x[4],x[5],x[6],x[7],n)\n",
    "\n",
    "# Plot the simulated data as curves\n",
    "#plt.plot(simulated[0,:], label='Susceptible')\n",
    "#plt.plot(simulated[1,:], label='Active Cases')\n",
    "#plt.plot(simulated[2,:], label='Recovered Cases')\n",
    "\n",
    "# Reset the colors\n",
    "plt.gca().set_prop_cycle(None)\n",
    "\n",
    "t = range(lastDay+1)\n",
    "\n",
    "dateLabels = ['']*lastDay\n",
    "\n",
    "for counter in range(int((lastDay+1)/7)):\n",
    "    dateLabels[counter*7+1] = dates[counter*7+1]\n",
    "\n",
    "plt.xticks(t, dateLabels, rotation=45)\n",
    "\n",
    "plt.ticklabel_format(useOffset=False, style='plain')\n",
    "\n",
    "# Plot the real data as dots\n",
    "# plt.plot(t,data[0,:], '.', label='S data')\n",
    "plt.plot(t,data[1,:], '.', label='Active Cases')\n",
    "plt.plot(t,data[2,:], '.', label='Recovered Cases')\n",
    "\n",
    "plt.legend()\n",
    "plt.ylabel('Cases')\n",
    "\n",
    "plt.title('Approximation of Recovered COVID-19 Cases in the US')"
   ]
  },
  {
   "cell_type": "code",
   "execution_count": 0,
   "metadata": {
    "collapsed": false
   },
   "outputs": [
   ],
   "source": [
   ]
  }
 ],
 "metadata": {
  "kernelspec": {
   "display_name": "Python 3 (system-wide)",
   "language": "python",
   "metadata": {
    "cocalc": {
     "description": "Python 3 programming language",
     "priority": 100,
     "url": "https://www.python.org/"
    }
   },
   "name": "python3"
  },
  "language_info": {
   "codemirror_mode": {
    "name": "ipython",
    "version": 3
   },
   "file_extension": ".py",
   "mimetype": "text/x-python",
   "name": "python",
   "nbconvert_exporter": "python",
   "pygments_lexer": "ipython3",
   "version": "3.6.9"
  }
 },
 "nbformat": 4,
 "nbformat_minor": 4
}